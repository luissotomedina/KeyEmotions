{
 "cells": [
  {
   "cell_type": "code",
   "execution_count": 11,
   "metadata": {},
   "outputs": [],
   "source": [
    "import os\n",
    "import pandas as pd"
   ]
  },
  {
   "cell_type": "code",
   "execution_count": 12,
   "metadata": {},
   "outputs": [],
   "source": [
    "BASE_DIR = os.path.join('C:\\\\', 'Users', 'LSoto', 'Documents', 'PERSONAL', 'VIU', 'TFM', 'KeyEmotions')"
   ]
  },
  {
   "cell_type": "code",
   "execution_count": 13,
   "metadata": {},
   "outputs": [],
   "source": [
    "def load_metadata(metadata_path):\n",
    "    \"\"\"\n",
    "    Load metadata from csv file\n",
    "\n",
    "    Input:\n",
    "        metadata_path: str, path to the metadata file\n",
    "    \n",
    "    Output: \n",
    "        None\n",
    "    \"\"\"\n",
    "\n",
    "    try: \n",
    "        return pd.read_csv(metadata_path)\n",
    "    except Exception as e:\n",
    "        print(f\"Error loading {metadata_path}: {e}\")\n",
    "        return None"
   ]
  },
  {
   "cell_type": "code",
   "execution_count": 14,
   "metadata": {},
   "outputs": [],
   "source": [
    "raw_data_path = os.path.join(BASE_DIR, 'data', 'raw')"
   ]
  },
  {
   "cell_type": "code",
   "execution_count": 53,
   "metadata": {},
   "outputs": [],
   "source": [
    "def process_vgmidi(df):\n",
    "    \"\"\"\n",
    "    Process metadata from VGMIDI dataset\n",
    "\n",
    "    Input:\n",
    "        df: pd.DataFrame, metadata\n",
    "    \n",
    "    Output:\n",
    "        df: pd.DataFrame, metadata with Q label\n",
    "    \"\"\"\n",
    "    valence_arousal_mapping = {\n",
    "        (1, 1): \"Q1\", \n",
    "        (-1, 1): \"Q2\",\n",
    "        (-1, -1): \"Q3\",\n",
    "        (1, -1): \"Q4\"\n",
    "    }\n",
    "\n",
    "    df['label'] = df[['valence', 'arousal']].apply(lambda x: valence_arousal_mapping[(x['valence'], x['arousal'])], axis=1)\n",
    "\n",
    "    df['name'] = df['midi'].apply(lambda x: x.split('/')[-1])\n",
    "\n",
    "    # Extract name and Q_label\n",
    "    df = df[['name', 'label']]\n",
    "\n",
    "    return df"
   ]
  },
  {
   "cell_type": "code",
   "execution_count": 54,
   "metadata": {},
   "outputs": [
    {
     "name": "stdout",
     "output_type": "stream",
     "text": [
      "Loading key_mode_tempo.csv\n",
      "   Unnamed: 0              name keyname  keymode       tempo label\n",
      "0           0  Q3_7JIdJLkJ0S4_1      A#        2  121.558969    Q3\n",
      "1           1  Q1_2Z9SjI131jA_7       C        1  121.575277    Q1\n",
      "2           2  Q3_nBIls0laAAU_1       a        1  121.510721    Q3\n",
      "3           3  Q4_8TYY0qG-KOw_0      F#        2  121.945453    Q4\n",
      "4           4  Q3_K84TcgjCRt4_0       A        1  121.830024    Q3\n",
      "Loading vgmidi_labelled.csv\n",
      "                                                name label\n",
      "0  Banjo-Kazooie_N64_Banjo-Kazooie_Boggys Igloo H...    Q1\n",
      "1  Banjo-Kazooie_N64_Banjo-Kazooie_Boggys Igloo S...    Q4\n",
      "2  Banjo-Kazooie_N64_Banjo-Kazooie_Bubblegloop Sw...    Q1\n",
      "3  Banjo-Kazooie_N64_Banjo-Kazooie_Click Clock Wo...    Q1\n",
      "4       Banjo-Kazooie_N64_Banjo-Kazooie_Ending_0.mid    Q4\n"
     ]
    }
   ],
   "source": [
    "files = os.listdir(raw_data_path)\n",
    "for file in files:\n",
    "    if file.endswith('.csv'):\n",
    "        print(f\"Loading {file}\")\n",
    "        metadata = load_metadata(os.path.join(raw_data_path, file))\n",
    "        if {'valence', 'arousal'}.issubset(metadata.columns): \n",
    "            # Data from vgmidi-master dataset\n",
    "            metadata = process_vgmidi(metadata)\n",
    "            print(metadata.head())\n",
    "        else: \n",
    "            # Data from EMOPIA dataset\n",
    "            print(metadata.head())"
   ]
  }
 ],
 "metadata": {
  "kernelspec": {
   "display_name": "keyEmotions",
   "language": "python",
   "name": "python3"
  },
  "language_info": {
   "codemirror_mode": {
    "name": "ipython",
    "version": 3
   },
   "file_extension": ".py",
   "mimetype": "text/x-python",
   "name": "python",
   "nbconvert_exporter": "python",
   "pygments_lexer": "ipython3",
   "version": "3.12.8"
  }
 },
 "nbformat": 4,
 "nbformat_minor": 2
}
