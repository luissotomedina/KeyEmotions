{
 "cells": [
  {
   "cell_type": "code",
   "execution_count": 11,
   "metadata": {},
   "outputs": [],
   "source": [
    "import os\n",
    "import pandas as pd"
   ]
  },
  {
   "cell_type": "code",
   "execution_count": 12,
   "metadata": {},
   "outputs": [],
   "source": [
    "BASE_DIR = os.path.join('C:\\\\', 'Users', 'LSoto', 'Documents', 'PERSONAL', 'VIU', 'TFM', 'KeyEmotions')"
   ]
  },
  {
   "cell_type": "code",
   "execution_count": 13,
   "metadata": {},
   "outputs": [],
   "source": [
    "def load_metadata(metadata_path):\n",
    "    \"\"\"\n",
    "    Load metadata from csv file\n",
    "\n",
    "    Input:\n",
    "        metadata_path: str, path to the metadata file\n",
    "    \n",
    "    Output: \n",
    "        None\n",
    "    \"\"\"\n",
    "\n",
    "    try: \n",
    "        return pd.read_csv(metadata_path)\n",
    "    except Exception as e:\n",
    "        print(f\"Error loading {metadata_path}: {e}\")\n",
    "        return None"
   ]
  },
  {
   "cell_type": "code",
   "execution_count": 14,
   "metadata": {},
   "outputs": [],
   "source": [
    "raw_data_path = os.path.join(BASE_DIR, 'data', 'raw')"
   ]
  },
  {
   "cell_type": "code",
   "execution_count": 49,
   "metadata": {},
   "outputs": [],
   "source": [
    "def process_vgmidi(df):\n",
    "    \"\"\"\n",
    "    Process metadata from VGMIDI dataset\n",
    "\n",
    "    Input:\n",
    "        df: pd.DataFrame, metadata\n",
    "    \n",
    "    Output:\n",
    "        df: pd.DataFrame, metadata with Q label\n",
    "    \"\"\"\n",
    "    valence_arousal_mapping = {\n",
    "        (1, 1): \"Q1\", \n",
    "        (-1, 1): \"Q2\",\n",
    "        (-1, -1): \"Q3\",\n",
    "        (1, -1): \"Q4\"\n",
    "    }\n",
    "\n",
    "    df['label'] = df[['valence', 'arousal']].apply(lambda x: valence_arousal_mapping[(x['valence'], x['arousal'])], axis=1)\n",
    "\n",
    "    df['name'] = df['midi'].apply(lambda x: x.split('/')[-1])\n",
    "\n",
    "    # Extract name and Q_label\n",
    "    df = df[['name', 'label']]\n",
    "\n",
    "    return df"
   ]
  },
  {
   "cell_type": "code",
   "execution_count": 50,
   "metadata": {},
   "outputs": [
    {
     "name": "stdout",
     "output_type": "stream",
     "text": [
      "Loading key_mode_tempo.csv\n",
      "   Unnamed: 0              name keyname  keymode       tempo label\n",
      "0           0  Q3_7JIdJLkJ0S4_1      A#        2  121.558969    Q3\n",
      "1           1  Q1_2Z9SjI131jA_7       C        1  121.575277    Q1\n",
      "2           2  Q3_nBIls0laAAU_1       a        1  121.510721    Q3\n",
      "3           3  Q4_8TYY0qG-KOw_0      F#        2  121.945453    Q4\n",
      "4           4  Q3_K84TcgjCRt4_0       A        1  121.830024    Q3\n",
      "Loading vgmidi_labelled.csv\n"
     ]
    },
    {
     "ename": "KeyError",
     "evalue": "\"['Q_label'] not in index\"",
     "output_type": "error",
     "traceback": [
      "\u001b[1;31m---------------------------------------------------------------------------\u001b[0m",
      "\u001b[1;31mKeyError\u001b[0m                                  Traceback (most recent call last)",
      "Cell \u001b[1;32mIn[50], line 8\u001b[0m\n\u001b[0;32m      5\u001b[0m metadata \u001b[38;5;241m=\u001b[39m load_metadata(os\u001b[38;5;241m.\u001b[39mpath\u001b[38;5;241m.\u001b[39mjoin(raw_data_path, file))\n\u001b[0;32m      6\u001b[0m \u001b[38;5;28;01mif\u001b[39;00m {\u001b[38;5;124m'\u001b[39m\u001b[38;5;124mvalence\u001b[39m\u001b[38;5;124m'\u001b[39m, \u001b[38;5;124m'\u001b[39m\u001b[38;5;124marousal\u001b[39m\u001b[38;5;124m'\u001b[39m}\u001b[38;5;241m.\u001b[39missubset(metadata\u001b[38;5;241m.\u001b[39mcolumns): \n\u001b[0;32m      7\u001b[0m     \u001b[38;5;66;03m# Data from vgmidi-master dataset\u001b[39;00m\n\u001b[1;32m----> 8\u001b[0m     metadata \u001b[38;5;241m=\u001b[39m \u001b[43mprocess_vgmidi\u001b[49m\u001b[43m(\u001b[49m\u001b[43mmetadata\u001b[49m\u001b[43m)\u001b[49m\n\u001b[0;32m      9\u001b[0m     \u001b[38;5;28mprint\u001b[39m(metadata\u001b[38;5;241m.\u001b[39mhead())\n\u001b[0;32m     10\u001b[0m \u001b[38;5;28;01melse\u001b[39;00m: \n\u001b[0;32m     11\u001b[0m     \u001b[38;5;66;03m# Data from EMOPIA dataset\u001b[39;00m\n",
      "Cell \u001b[1;32mIn[49], line 23\u001b[0m, in \u001b[0;36mprocess_vgmidi\u001b[1;34m(df)\u001b[0m\n\u001b[0;32m     20\u001b[0m df[\u001b[38;5;124m'\u001b[39m\u001b[38;5;124mname\u001b[39m\u001b[38;5;124m'\u001b[39m] \u001b[38;5;241m=\u001b[39m df[\u001b[38;5;124m'\u001b[39m\u001b[38;5;124mmidi\u001b[39m\u001b[38;5;124m'\u001b[39m]\u001b[38;5;241m.\u001b[39mapply(\u001b[38;5;28;01mlambda\u001b[39;00m x: x\u001b[38;5;241m.\u001b[39msplit(\u001b[38;5;124m'\u001b[39m\u001b[38;5;124m/\u001b[39m\u001b[38;5;124m'\u001b[39m)[\u001b[38;5;241m-\u001b[39m\u001b[38;5;241m1\u001b[39m])\n\u001b[0;32m     22\u001b[0m \u001b[38;5;66;03m# Extract name and Q_label\u001b[39;00m\n\u001b[1;32m---> 23\u001b[0m df \u001b[38;5;241m=\u001b[39m \u001b[43mdf\u001b[49m\u001b[43m[\u001b[49m\u001b[43m[\u001b[49m\u001b[38;5;124;43m'\u001b[39;49m\u001b[38;5;124;43mname\u001b[39;49m\u001b[38;5;124;43m'\u001b[39;49m\u001b[43m,\u001b[49m\u001b[43m \u001b[49m\u001b[38;5;124;43m'\u001b[39;49m\u001b[38;5;124;43mQ_label\u001b[39;49m\u001b[38;5;124;43m'\u001b[39;49m\u001b[43m]\u001b[49m\u001b[43m]\u001b[49m\n\u001b[0;32m     25\u001b[0m \u001b[38;5;28;01mreturn\u001b[39;00m df\n",
      "File \u001b[1;32mc:\\Users\\LSoto\\AppData\\Local\\anaconda3\\envs\\keyEmotions\\Lib\\site-packages\\pandas\\core\\frame.py:4108\u001b[0m, in \u001b[0;36mDataFrame.__getitem__\u001b[1;34m(self, key)\u001b[0m\n\u001b[0;32m   4106\u001b[0m     \u001b[38;5;28;01mif\u001b[39;00m is_iterator(key):\n\u001b[0;32m   4107\u001b[0m         key \u001b[38;5;241m=\u001b[39m \u001b[38;5;28mlist\u001b[39m(key)\n\u001b[1;32m-> 4108\u001b[0m     indexer \u001b[38;5;241m=\u001b[39m \u001b[38;5;28;43mself\u001b[39;49m\u001b[38;5;241;43m.\u001b[39;49m\u001b[43mcolumns\u001b[49m\u001b[38;5;241;43m.\u001b[39;49m\u001b[43m_get_indexer_strict\u001b[49m\u001b[43m(\u001b[49m\u001b[43mkey\u001b[49m\u001b[43m,\u001b[49m\u001b[43m \u001b[49m\u001b[38;5;124;43m\"\u001b[39;49m\u001b[38;5;124;43mcolumns\u001b[39;49m\u001b[38;5;124;43m\"\u001b[39;49m\u001b[43m)\u001b[49m[\u001b[38;5;241m1\u001b[39m]\n\u001b[0;32m   4110\u001b[0m \u001b[38;5;66;03m# take() does not accept boolean indexers\u001b[39;00m\n\u001b[0;32m   4111\u001b[0m \u001b[38;5;28;01mif\u001b[39;00m \u001b[38;5;28mgetattr\u001b[39m(indexer, \u001b[38;5;124m\"\u001b[39m\u001b[38;5;124mdtype\u001b[39m\u001b[38;5;124m\"\u001b[39m, \u001b[38;5;28;01mNone\u001b[39;00m) \u001b[38;5;241m==\u001b[39m \u001b[38;5;28mbool\u001b[39m:\n",
      "File \u001b[1;32mc:\\Users\\LSoto\\AppData\\Local\\anaconda3\\envs\\keyEmotions\\Lib\\site-packages\\pandas\\core\\indexes\\base.py:6200\u001b[0m, in \u001b[0;36mIndex._get_indexer_strict\u001b[1;34m(self, key, axis_name)\u001b[0m\n\u001b[0;32m   6197\u001b[0m \u001b[38;5;28;01melse\u001b[39;00m:\n\u001b[0;32m   6198\u001b[0m     keyarr, indexer, new_indexer \u001b[38;5;241m=\u001b[39m \u001b[38;5;28mself\u001b[39m\u001b[38;5;241m.\u001b[39m_reindex_non_unique(keyarr)\n\u001b[1;32m-> 6200\u001b[0m \u001b[38;5;28;43mself\u001b[39;49m\u001b[38;5;241;43m.\u001b[39;49m\u001b[43m_raise_if_missing\u001b[49m\u001b[43m(\u001b[49m\u001b[43mkeyarr\u001b[49m\u001b[43m,\u001b[49m\u001b[43m \u001b[49m\u001b[43mindexer\u001b[49m\u001b[43m,\u001b[49m\u001b[43m \u001b[49m\u001b[43maxis_name\u001b[49m\u001b[43m)\u001b[49m\n\u001b[0;32m   6202\u001b[0m keyarr \u001b[38;5;241m=\u001b[39m \u001b[38;5;28mself\u001b[39m\u001b[38;5;241m.\u001b[39mtake(indexer)\n\u001b[0;32m   6203\u001b[0m \u001b[38;5;28;01mif\u001b[39;00m \u001b[38;5;28misinstance\u001b[39m(key, Index):\n\u001b[0;32m   6204\u001b[0m     \u001b[38;5;66;03m# GH 42790 - Preserve name from an Index\u001b[39;00m\n",
      "File \u001b[1;32mc:\\Users\\LSoto\\AppData\\Local\\anaconda3\\envs\\keyEmotions\\Lib\\site-packages\\pandas\\core\\indexes\\base.py:6252\u001b[0m, in \u001b[0;36mIndex._raise_if_missing\u001b[1;34m(self, key, indexer, axis_name)\u001b[0m\n\u001b[0;32m   6249\u001b[0m     \u001b[38;5;28;01mraise\u001b[39;00m \u001b[38;5;167;01mKeyError\u001b[39;00m(\u001b[38;5;124mf\u001b[39m\u001b[38;5;124m\"\u001b[39m\u001b[38;5;124mNone of [\u001b[39m\u001b[38;5;132;01m{\u001b[39;00mkey\u001b[38;5;132;01m}\u001b[39;00m\u001b[38;5;124m] are in the [\u001b[39m\u001b[38;5;132;01m{\u001b[39;00maxis_name\u001b[38;5;132;01m}\u001b[39;00m\u001b[38;5;124m]\u001b[39m\u001b[38;5;124m\"\u001b[39m)\n\u001b[0;32m   6251\u001b[0m not_found \u001b[38;5;241m=\u001b[39m \u001b[38;5;28mlist\u001b[39m(ensure_index(key)[missing_mask\u001b[38;5;241m.\u001b[39mnonzero()[\u001b[38;5;241m0\u001b[39m]]\u001b[38;5;241m.\u001b[39munique())\n\u001b[1;32m-> 6252\u001b[0m \u001b[38;5;28;01mraise\u001b[39;00m \u001b[38;5;167;01mKeyError\u001b[39;00m(\u001b[38;5;124mf\u001b[39m\u001b[38;5;124m\"\u001b[39m\u001b[38;5;132;01m{\u001b[39;00mnot_found\u001b[38;5;132;01m}\u001b[39;00m\u001b[38;5;124m not in index\u001b[39m\u001b[38;5;124m\"\u001b[39m)\n",
      "\u001b[1;31mKeyError\u001b[0m: \"['Q_label'] not in index\""
     ]
    }
   ],
   "source": [
    "files = os.listdir(raw_data_path)\n",
    "for file in files:\n",
    "    if file.endswith('.csv'):\n",
    "        print(f\"Loading {file}\")\n",
    "        metadata = load_metadata(os.path.join(raw_data_path, file))\n",
    "        if {'valence', 'arousal'}.issubset(metadata.columns): \n",
    "            # Data from vgmidi-master dataset\n",
    "            metadata = process_vgmidi(metadata)\n",
    "            print(metadata.head())\n",
    "        else: \n",
    "            # Data from EMOPIA dataset\n",
    "            print(metadata.head())"
   ]
  }
 ],
 "metadata": {
  "kernelspec": {
   "display_name": "keyEmotions",
   "language": "python",
   "name": "python3"
  },
  "language_info": {
   "codemirror_mode": {
    "name": "ipython",
    "version": 3
   },
   "file_extension": ".py",
   "mimetype": "text/x-python",
   "name": "python",
   "nbconvert_exporter": "python",
   "pygments_lexer": "ipython3",
   "version": "3.12.8"
  }
 },
 "nbformat": 4,
 "nbformat_minor": 2
}
