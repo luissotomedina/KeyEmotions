{
 "cells": [
  {
   "cell_type": "code",
   "execution_count": 1,
   "metadata": {},
   "outputs": [],
   "source": [
    "import os\n",
    "import mido\n",
    "from pathlib import Path\n",
    "from mido import merge_tracks"
   ]
  },
  {
   "cell_type": "code",
   "execution_count": 3,
   "metadata": {},
   "outputs": [],
   "source": [
    "mid_file = 'Banjo-Kazooie_N64_Banjo-Tooie_Cauldron Keep.mid'"
   ]
  },
  {
   "cell_type": "code",
   "execution_count": 4,
   "metadata": {},
   "outputs": [],
   "source": [
    "mid = mido.MidiFile(\"../data/raw/\" + mid_file)"
   ]
  },
  {
   "cell_type": "code",
   "execution_count": 5,
   "metadata": {},
   "outputs": [],
   "source": [
    "from mido import MidiFile"
   ]
  },
  {
   "cell_type": "code",
   "execution_count": 6,
   "metadata": {},
   "outputs": [],
   "source": [
    "def combine_midi_tracks(mid, output_path=\"../data/processed/\"):\n",
    "    if not isinstance(mid, MidiFile):\n",
    "        raise ValueError(\"Expected a MidiFile object as input\")\n",
    "    \n",
    "    combined_midi = MidiFile()\n",
    "    combined_midi.ticks_per_beat = mid.ticks_per_beat\n",
    "\n",
    "    combined_midi.tracks = [merge_tracks(mid.tracks)]\n",
    "\n",
    "    output_file = os.path.join(output_path, Path(mid.filename).stem + \"_merged.mid\")\n",
    "    combined_midi.save(output_file)"
   ]
  },
  {
   "cell_type": "code",
   "execution_count": null,
   "metadata": {},
   "outputs": [],
   "source": [
    "def split_midi_file(mid, output_path=\"../data/processed/\"):\n",
    "    if not isinstance(mid, MidiFile):\n",
    "        raise ValueError(\"Expected a MidiFile object as input\")\n",
    "    \n",
    "    split_midi = MidiFile()\n",
    "    split_midi.ticks_per_beat = mid.ticks_per_beat\n",
    "    for msg in mid: \n",
    "        if not msg.is_meta:\n",
    "            split_midi.tracks.append([msg])"
   ]
  },
  {
   "cell_type": "code",
   "execution_count": 7,
   "metadata": {},
   "outputs": [
    {
     "name": "stdout",
     "output_type": "stream",
     "text": [
      "48\n",
      "<class 'mido.midifiles.midifiles.MidiFile'>\n",
      "9\n"
     ]
    }
   ],
   "source": [
    "print(mid.ticks_per_beat)\n",
    "print(type(mid))\n",
    "print(len(mid.tracks))\n",
    "combine_midi_tracks(mid)"
   ]
  }
 ],
 "metadata": {
  "kernelspec": {
   "display_name": "keyEmotions",
   "language": "python",
   "name": "python3"
  },
  "language_info": {
   "codemirror_mode": {
    "name": "ipython",
    "version": 3
   },
   "file_extension": ".py",
   "mimetype": "text/x-python",
   "name": "python",
   "nbconvert_exporter": "python",
   "pygments_lexer": "ipython3",
   "version": "3.12.8"
  }
 },
 "nbformat": 4,
 "nbformat_minor": 2
}
