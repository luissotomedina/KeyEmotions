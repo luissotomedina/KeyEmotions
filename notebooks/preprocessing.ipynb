{
 "cells": [
  {
   "cell_type": "code",
   "execution_count": 16,
   "metadata": {},
   "outputs": [],
   "source": [
    "import os\n",
    "import mido\n",
    "from pathlib import Path\n",
    "from mido import MidiFile, MidiTrack, merge_tracks"
   ]
  },
  {
   "cell_type": "code",
   "execution_count": 17,
   "metadata": {},
   "outputs": [],
   "source": [
    "mid_file = 'Banjo-Kazooie_N64_Banjo-Tooie_Cauldron Keep.mid'"
   ]
  },
  {
   "cell_type": "markdown",
   "metadata": {},
   "source": [
    "## COMBINE MIDI TRACKS"
   ]
  },
  {
   "cell_type": "code",
   "execution_count": 65,
   "metadata": {},
   "outputs": [],
   "source": [
    "def combine_midi_tracks(mid):\n",
    "    if not isinstance(mid, MidiFile):\n",
    "        raise ValueError(\"Expected a MidiFile object as input\")\n",
    "    \n",
    "    combined_midi = MidiFile(ticks_per_beat=mid.ticks_per_beat)\n",
    "\n",
    "    combined_midi.tracks = [merge_tracks(mid.tracks)]\n",
    "\n",
    "    return combined_midi"
   ]
  },
  {
   "cell_type": "markdown",
   "metadata": {},
   "source": [
    "# Save midi"
   ]
  },
  {
   "cell_type": "code",
   "execution_count": 68,
   "metadata": {},
   "outputs": [],
   "source": [
    "def save_midi(mid, output_path):\n",
    "    \"\"\"\n",
    "    Save MIDI file.\n",
    "    \n",
    "    Parameters:\n",
    "        mid: MidiFile, MIDI file to save.\n",
    "        output_path (str): Path to save the MIDI file.\n",
    "    \"\"\"\n",
    "    os.makedirs(os.path.dirname(output_path), exist_ok=True)\n",
    "    mid.save(output_path)\n",
    "    print(f\"MIDI file saved to {output_path}\")"
   ]
  },
  {
   "cell_type": "markdown",
   "metadata": {},
   "source": [
    "## Split by bars"
   ]
  },
  {
   "cell_type": "code",
   "execution_count": 20,
   "metadata": {},
   "outputs": [],
   "source": [
    "BARS_TO_EXTRACT = 4"
   ]
  },
  {
   "cell_type": "code",
   "execution_count": 42,
   "metadata": {},
   "outputs": [],
   "source": [
    "def save_bar_messages(message, bar_number, ticks_per_beat, filename, output_path=\"../data/processed/\"):\n",
    "    bar_midi = MidiFile(ticks_per_beat=ticks_per_beat)\n",
    "    bar_track = MidiTrack()\n",
    "    bar_midi.tracks.append(bar_track)\n",
    "    for msg in message:\n",
    "        msg.time = int(msg.time) # int(msg.time)\n",
    "        bar_track.append(msg)\n",
    "    output_file = os.path.join(output_path, f\"{filename}_{bar_number}.mid\")\n",
    "    save_midi(bar_midi, output_file)\n",
    "    print(f\"Bar {bar_number} saved to {output_file}\")"
   ]
  },
  {
   "cell_type": "code",
   "execution_count": 22,
   "metadata": {},
   "outputs": [],
   "source": [
    "# BUENO\n",
    "def split_midi_by_bar(mid, bars_to_extract, filename=None):\n",
    "    ticks_per_beat = mid.ticks_per_beat\n",
    "    numerator_time_signature = [msg.numerator for msg in mid if msg.type == 'time_signature'][0]\n",
    "    ticks_per_bar = ticks_per_beat * numerator_time_signature\n",
    "    ticks_to_extract = ticks_per_bar * bars_to_extract\n",
    "\n",
    "    current_bar = 0\n",
    "    current_ticks = 0\n",
    "    metadata_info = [msg for msg in mid if msg.is_meta]\n",
    "    bar_messages = []\n",
    "    chord_messages = []\n",
    "\n",
    "    for track in mid.tracks:\n",
    "        for msg in track:\n",
    "            if msg.time == 0:\n",
    "                chord_messages.append(msg)\n",
    "            else: \n",
    "                chord_messages.append(msg)\n",
    "                # CASE 1: the chord is of the next section\n",
    "                if current_ticks + msg.time >= ticks_to_extract:\n",
    "                    current_bar += 1\n",
    "                    current_ticks = 0\n",
    "                    bar_messages.append(metadata_info[-1])\n",
    "                    save_bar_messages(bar_messages, current_bar, ticks_per_beat, filename)\n",
    "                    \n",
    "                    bar_messages = metadata_info[:-1]\n",
    "                    bar_messages.extend(chord_messages)\n",
    "                    chord_messages = []\n",
    "                # CASE 2: the chord is of the current section\n",
    "                else:\n",
    "                    current_ticks += msg.time\n",
    "                    bar_messages.extend(chord_messages)\n",
    "                    chord_messages = []"
   ]
  },
  {
   "cell_type": "code",
   "execution_count": 69,
   "metadata": {},
   "outputs": [],
   "source": [
    "# IMPROVED VERSION\n",
    "# def split_midi_by_bar(mid, bars_to_extract = 4, path=\"data/processed\"):\n",
    "#     filename = Path(mid.filename).stem\n",
    "\n",
    "#     ticks_per_beat = mid.ticks_per_beat\n",
    "#     numerator_time_signature = next((msg.numerator for msg in mid if msg.type == 'time_signature'), 4)\n",
    "#     ticks_per_bar = ticks_per_beat * numerator_time_signature\n",
    "#     ticks_to_extract = ticks_per_bar * bars_to_extract\n",
    "\n",
    "#     current_bar = 0\n",
    "#     current_ticks = 0\n",
    "#     metadata_info = [msg for msg in mid if msg.is_meta]\n",
    "#     bar_messages = []\n",
    "#     chord_messages = []\n",
    "\n",
    "#     for track in mid.tracks:\n",
    "#         for msg in track:\n",
    "#             chord_messages.append(msg)\n",
    "\n",
    "#             if msg.time > 0: \n",
    "#                 current_ticks += msg.time\n",
    "\n",
    "#                 if current_ticks >= ticks_to_extract:\n",
    "#                     current_bar += 1\n",
    "#                     current_ticks -= ticks_to_extract\n",
    "\n",
    "#                     # Save the current bar messages\n",
    "#                     bar_messages.extend(metadata_info)\n",
    "#                     bar_messages.append(metadata_info[-1])\n",
    "#                     save_bar_messages(bar_messages, current_bar, ticks_per_beat, filename)\n",
    "\n",
    "#                     # Prepare for the next bar\n",
    "#                     bar_messages = metadata_info[:-1]\n",
    "#                     chord_messages.clear()\n",
    "\n",
    "#     # Save remaining messages if any\n",
    "#     if chord_messages:\n",
    "#         current_bar += 1\n",
    "#         bar_messages.extend(chord_messages)\n",
    "#         save_bar_messages(bar_messages, current_bar, ticks_per_beat, filename)"
   ]
  },
  {
   "cell_type": "markdown",
   "metadata": {},
   "source": [
    "# Pitches analysis"
   ]
  },
  {
   "cell_type": "code",
   "execution_count": 24,
   "metadata": {},
   "outputs": [],
   "source": [
    "import os\n",
    "import mido\n",
    "from collections import defaultdict"
   ]
  },
  {
   "cell_type": "code",
   "execution_count": 25,
   "metadata": {},
   "outputs": [
    {
     "name": "stdout",
     "output_type": "stream",
     "text": [
      "Min pitch: 0\n",
      "Max pitch: 109\n",
      "Pitch counts:\n",
      "Pitch 0: 2 times\n",
      "Pitch 1: 0 times\n",
      "Pitch 2: 0 times\n",
      "Pitch 3: 0 times\n",
      "Pitch 4: 0 times\n",
      "Pitch 5: 0 times\n",
      "Pitch 6: 0 times\n",
      "Pitch 7: 0 times\n",
      "Pitch 8: 0 times\n",
      "Pitch 9: 0 times\n",
      "Pitch 10: 0 times\n",
      "Pitch 11: 0 times\n",
      "Pitch 12: 2 times\n",
      "Pitch 13: 0 times\n",
      "Pitch 14: 2 times\n",
      "Pitch 15: 0 times\n",
      "Pitch 16: 0 times\n",
      "Pitch 17: 0 times\n",
      "Pitch 18: 0 times\n",
      "Pitch 19: 0 times\n",
      "Pitch 20: 0 times\n",
      "Pitch 21: 6 times\n",
      "Pitch 22: 48 times\n",
      "Pitch 23: 30 times\n",
      "Pitch 24: 1010 times\n",
      "Pitch 25: 448 times\n",
      "Pitch 26: 1296 times\n",
      "Pitch 27: 978 times\n",
      "Pitch 28: 1799 times\n",
      "Pitch 29: 2414 times\n",
      "Pitch 30: 1226 times\n",
      "Pitch 31: 4392 times\n",
      "Pitch 32: 1600 times\n",
      "Pitch 33: 4357 times\n",
      "Pitch 34: 3390 times\n",
      "Pitch 35: 3028 times\n",
      "Pitch 36: 6858 times\n",
      "Pitch 37: 3688 times\n",
      "Pitch 38: 9959 times\n",
      "Pitch 39: 4883 times\n",
      "Pitch 40: 10113 times\n",
      "Pitch 41: 12272 times\n",
      "Pitch 42: 6932 times\n",
      "Pitch 43: 17150 times\n",
      "Pitch 44: 8653 times\n",
      "Pitch 45: 16109 times\n",
      "Pitch 46: 12253 times\n",
      "Pitch 47: 11756 times\n",
      "Pitch 48: 20651 times\n",
      "Pitch 49: 11006 times\n",
      "Pitch 50: 21122 times\n",
      "Pitch 51: 13026 times\n",
      "Pitch 52: 20838 times\n",
      "Pitch 53: 19453 times\n",
      "Pitch 54: 14195 times\n",
      "Pitch 55: 27615 times\n",
      "Pitch 56: 14269 times\n",
      "Pitch 57: 27530 times\n",
      "Pitch 58: 17973 times\n",
      "Pitch 59: 20882 times\n",
      "Pitch 60: 29527 times\n",
      "Pitch 61: 17553 times\n",
      "Pitch 62: 29757 times\n",
      "Pitch 63: 17687 times\n",
      "Pitch 64: 27323 times\n",
      "Pitch 65: 24216 times\n",
      "Pitch 66: 17741 times\n",
      "Pitch 67: 30985 times\n",
      "Pitch 68: 17130 times\n",
      "Pitch 69: 29130 times\n",
      "Pitch 70: 19201 times\n",
      "Pitch 71: 22455 times\n",
      "Pitch 72: 25195 times\n",
      "Pitch 73: 14755 times\n",
      "Pitch 74: 23119 times\n",
      "Pitch 75: 13758 times\n",
      "Pitch 76: 19725 times\n",
      "Pitch 77: 15910 times\n",
      "Pitch 78: 11230 times\n",
      "Pitch 79: 16659 times\n",
      "Pitch 80: 9340 times\n",
      "Pitch 81: 12874 times\n",
      "Pitch 82: 7956 times\n",
      "Pitch 83: 7289 times\n",
      "Pitch 84: 7742 times\n",
      "Pitch 85: 4214 times\n",
      "Pitch 86: 5730 times\n",
      "Pitch 87: 3267 times\n",
      "Pitch 88: 4516 times\n",
      "Pitch 89: 3168 times\n",
      "Pitch 90: 2344 times\n",
      "Pitch 91: 2662 times\n",
      "Pitch 92: 1574 times\n",
      "Pitch 93: 1756 times\n",
      "Pitch 94: 1044 times\n",
      "Pitch 95: 770 times\n",
      "Pitch 96: 726 times\n",
      "Pitch 97: 396 times\n",
      "Pitch 98: 572 times\n",
      "Pitch 99: 254 times\n",
      "Pitch 100: 274 times\n",
      "Pitch 101: 200 times\n",
      "Pitch 102: 154 times\n",
      "Pitch 103: 120 times\n",
      "Pitch 104: 22 times\n",
      "Pitch 105: 4 times\n",
      "Pitch 106: 10 times\n",
      "Pitch 107: 10 times\n",
      "Pitch 108: 2 times\n",
      "Pitch 109: 4 times\n",
      "Pitch 110: 0 times\n",
      "Pitch 111: 0 times\n",
      "Pitch 112: 0 times\n",
      "Pitch 113: 0 times\n",
      "Pitch 114: 0 times\n",
      "Pitch 115: 0 times\n",
      "Pitch 116: 0 times\n",
      "Pitch 117: 0 times\n",
      "Pitch 118: 0 times\n",
      "Pitch 119: 0 times\n",
      "Pitch 120: 0 times\n",
      "Pitch 121: 0 times\n",
      "Pitch 122: 0 times\n",
      "Pitch 123: 0 times\n",
      "Pitch 124: 0 times\n",
      "Pitch 125: 0 times\n",
      "Pitch 126: 0 times\n",
      "Pitch 127: 0 times\n"
     ]
    }
   ],
   "source": [
    "def count_pitches(midi_raw_path):\n",
    "    pitch_counts = defaultdict(int)\n",
    "    min_pitch = 127\n",
    "    max_pitch = 0\n",
    "\n",
    "    for midi in midi_raw_path:\n",
    "        mid = mido.MidiFile(midi)\n",
    "        for track in mid.tracks:\n",
    "            for msg in track:\n",
    "                if msg.type in ['note_on', 'note_off']:\n",
    "                    pitch_counts[msg.note] += 1\n",
    "                    min_pitch = min(min_pitch, msg.note)\n",
    "                    max_pitch = max(max_pitch, msg.note)\n",
    "\n",
    "    return pitch_counts, min_pitch, max_pitch\n",
    "\n",
    "midi_raw_path = [os.path.join(\"../data/raw/midi/\", midi) for midi in os.listdir(\"../data/raw/midi/\")]\n",
    "pitch_counts, min_pitch, max_pitch = count_pitches(midi_raw_path)\n",
    "\n",
    "# Imprimir los resultados\n",
    "print(f\"Min pitch: {min_pitch}\")\n",
    "print(f\"Max pitch: {max_pitch}\")\n",
    "print(\"Pitch counts:\")\n",
    "for pitch in range(128):\n",
    "    print(f\"Pitch {pitch}: {pitch_counts[pitch]} times\")"
   ]
  },
  {
   "cell_type": "markdown",
   "metadata": {},
   "source": [
    "## Establecemos el rango de pitch de 20-110"
   ]
  },
  {
   "cell_type": "markdown",
   "metadata": {},
   "source": [
    "# TIME SIGNATURE ANALYSYS"
   ]
  },
  {
   "cell_type": "code",
   "execution_count": 26,
   "metadata": {},
   "outputs": [
    {
     "name": "stdout",
     "output_type": "stream",
     "text": [
      "Time signature counts:\n",
      "Time signature 4/4: 1373 times\n",
      "Time signature 1/4: 1 times\n",
      "Time signature 2/4: 26 times\n",
      "Time signature 3/4: 76 times\n",
      "Time signature 5/8: 7 times\n",
      "Time signature 7/8: 11 times\n",
      "Time signature 6/8: 12 times\n",
      "Time signature 1/8: 1 times\n",
      "Time signature 5/4: 79 times\n",
      "Time signature 2/2: 14 times\n",
      "Time signature 6/4: 21 times\n",
      "Time signature 7/4: 5 times\n",
      "Time signature 9/8: 7 times\n",
      "Time signature 11/8: 4 times\n",
      "Time signature 19/16: 1 times\n",
      "Time signature 17/16: 1 times\n",
      "Time signature 11/16: 1 times\n",
      "Time signature 1/32: 1 times\n",
      "Time signature 12/8: 1 times\n",
      "\n",
      "Number of files with more than one time signature: 36\n"
     ]
    }
   ],
   "source": [
    "def count_time_signatures(midi_raw_path):\n",
    "    time_signature_counts = defaultdict(int)\n",
    "    files_with_multiple_time_signatures = 0\n",
    "\n",
    "    for midi in midi_raw_path:\n",
    "        mid = mido.MidiFile(midi)\n",
    "        time_signatures_in_file = set()\n",
    "        for track in mid.tracks:\n",
    "            for msg in track:\n",
    "                if msg.type == 'time_signature':\n",
    "                    time_signature_counts[(msg.numerator, msg.denominator)] += 1\n",
    "                    time_signatures_in_file.add((msg.numerator, msg.denominator))\n",
    "        \n",
    "        if len(time_signatures_in_file) > 1:\n",
    "            files_with_multiple_time_signatures += 1\n",
    "\n",
    "    return time_signature_counts, files_with_multiple_time_signatures\n",
    "\n",
    "midi_raw_path = [os.path.join(\"../data/raw/midi/\", midi) for midi in os.listdir(\"../data/raw/midi/\")]\n",
    "time_signature_counts, files_with_multiple_time_signatures = count_time_signatures(midi_raw_path)\n",
    "\n",
    "# Imprimir los resultados\n",
    "print(\"Time signature counts:\")\n",
    "for (numerator, denominator), count in time_signature_counts.items():\n",
    "    print(f\"Time signature {numerator}/{denominator}: {count} times\")\n",
    "\n",
    "print(f\"\\nNumber of files with more than one time signature: {files_with_multiple_time_signatures}\")"
   ]
  },
  {
   "cell_type": "markdown",
   "metadata": {},
   "source": [
    "# TICKS PER BIT ANALYSIS"
   ]
  },
  {
   "cell_type": "code",
   "execution_count": 27,
   "metadata": {},
   "outputs": [
    {
     "name": "stdout",
     "output_type": "stream",
     "text": [
      "Ticks per beat counts:\n",
      "Ticks per beat 1024: 59 times\n",
      "Ticks per beat 48: 12 times\n",
      "Ticks per beat 480: 14 times\n",
      "Ticks per beat 96: 3 times\n",
      "Ticks per beat 192: 70 times\n",
      "Ticks per beat 960: 8 times\n",
      "Ticks per beat 120: 18 times\n",
      "Ticks per beat 256: 19 times\n",
      "Ticks per beat 384: 1072 times\n",
      "\n",
      "Number of files with more than one ticks per beat value: 0\n"
     ]
    }
   ],
   "source": [
    "def count_ticks_per_beat(midi_raw_path):\n",
    "    tpb_counts = defaultdict(int)\n",
    "    files_with_multiple_tpb = 0\n",
    "\n",
    "    for midi in midi_raw_path:\n",
    "        mid = mido.MidiFile(midi)\n",
    "        tpb_in_file = set()\n",
    "        tpb_in_file.add(mid.ticks_per_beat)\n",
    "        tpb_counts[mid.ticks_per_beat] += 1\n",
    "        \n",
    "        if len(tpb_in_file) > 1:\n",
    "            files_with_multiple_tpb += 1\n",
    "\n",
    "    return tpb_counts, files_with_multiple_tpb\n",
    "\n",
    "midi_raw_path = [os.path.join(\"../data/raw/midi/\", midi) for midi in os.listdir(\"../data/raw/midi/\")]\n",
    "tpb_counts, files_with_multiple_tpb = count_ticks_per_beat(midi_raw_path)\n",
    "\n",
    "# Imprimir los resultados\n",
    "print(\"Ticks per beat counts:\")\n",
    "for tpb, count in tpb_counts.items():\n",
    "    print(f\"Ticks per beat {tpb}: {count} times\")\n",
    "\n",
    "print(f\"\\nNumber of files with more than one ticks per beat value: {files_with_multiple_tpb}\")"
   ]
  },
  {
   "cell_type": "markdown",
   "metadata": {},
   "source": [
    "# MIDI-TO-REMI"
   ]
  },
  {
   "cell_type": "code",
   "execution_count": 28,
   "metadata": {},
   "outputs": [],
   "source": [
    "def extract_notes_and_chords(mid):\n",
    "    events = []\n",
    "    note_start_times = {}\n",
    "    current_time = 0\n",
    "    time_signature = []\n",
    "\n",
    "    for track in mid.tracks:\n",
    "        current_time = 0 # Ojo aquí si las pistas comienzan en tiempos distintos\n",
    "        # events.append(mid.tracks.index(track))  \n",
    "        for msg in track:\n",
    "            if msg.type == 'time_signature':\n",
    "                time_signature = [msg.numerator, msg.denominator]\n",
    "\n",
    "            if msg.type in ['note_on', 'note_off']:\n",
    "                current_time += msg.time\n",
    "            \n",
    "            if msg.type == 'note_on' and msg.velocity > 0:\n",
    "                note_start_times[msg.note] = current_time\n",
    "            elif msg.type == 'note_off' or (msg.type == 'note_on' and msg.velocity == 0):\n",
    "                if msg.note in note_start_times:\n",
    "                    duration = current_time - note_start_times[msg.note]\n",
    "                    # print(f\"Duration of note {msg.note}: {duration}, current time: {current_time} and note start time: {note_start_times[msg.note]}\")\n",
    "                    events.append({\n",
    "                        'time': note_start_times[msg.note],\n",
    "                        'note': msg.note,\n",
    "                        'velocity': msg.velocity,\n",
    "                        'duration': duration,\n",
    "                        # 'track': mid.tracks.index(track)\n",
    "                    })\n",
    "                    del note_start_times[msg.note]\n",
    "\n",
    "    return sorted(events, key=lambda x: x['time']), time_signature"
   ]
  },
  {
   "cell_type": "code",
   "execution_count": 29,
   "metadata": {},
   "outputs": [],
   "source": [
    "def quantize_to_grid(ticks_time, ticks_duration, ticks_per_beat, grids_per_bar=32):\n",
    "    ticks_per_grid = (ticks_per_beat * 4) // grids_per_bar\n",
    "    ticks_per_bar = ticks_per_beat * 4\n",
    "\n",
    "    # Quantize the start time\n",
    "    quantized_time = round(ticks_time / ticks_per_grid) * ticks_per_grid\n",
    "\n",
    "    # Quantize the duration\n",
    "    quantized_duration = round(ticks_duration / ticks_per_grid) * ticks_per_grid # 1024\n",
    "\n",
    "    # Calculate the bar and position in the bar of the quantized time\n",
    "    bar = quantized_time // ticks_per_bar\n",
    "    position = int((ticks_time % ticks_per_bar) / ticks_per_grid)\n",
    "\n",
    "    # Calcute the duration in grids\n",
    "    duration_position = int((quantized_duration % ticks_per_bar) / ticks_per_grid)\n",
    "\n",
    "    return bar, position, duration_position"
   ]
  },
  {
   "cell_type": "code",
   "execution_count": 31,
   "metadata": {},
   "outputs": [],
   "source": [
    "mid = mido.MidiFile(\"../data/raw/midi/\" + \"Banjo-Kazooie_N64_Banjo-Kazooie_Boggys Igloo Happy.mid\")"
   ]
  },
  {
   "cell_type": "code",
   "execution_count": 32,
   "metadata": {},
   "outputs": [
    {
     "data": {
      "text/plain": [
       "([{'time': 5, 'note': 66, 'velocity': 0, 'duration': 1043},\n",
       "  {'time': 5, 'note': 42, 'velocity': 0, 'duration': 505},\n",
       "  {'time': 1049, 'note': 70, 'velocity': 0, 'duration': 752},\n",
       "  {'time': 1049, 'note': 37, 'velocity': 0, 'duration': 474},\n",
       "  {'time': 1802, 'note': 73, 'velocity': 0, 'duration': 246}],\n",
       " [4, 4])"
      ]
     },
     "execution_count": 32,
     "metadata": {},
     "output_type": "execute_result"
    }
   ],
   "source": [
    "events, time_signature = extract_notes_and_chords(mid)\n",
    "events[:5], time_signature"
   ]
  },
  {
   "cell_type": "code",
   "execution_count": 33,
   "metadata": {},
   "outputs": [
    {
     "name": "stdout",
     "output_type": "stream",
     "text": [
      "Bar 0, Position 0, Note 66, Duration 8\n",
      "Bar 0, Position 0, Note 42, Duration 4\n",
      "Bar 0, Position 8, Note 70, Duration 6\n",
      "Bar 0, Position 8, Note 37, Duration 4\n",
      "Bar 0, Position 14, Note 73, Duration 2\n"
     ]
    }
   ],
   "source": [
    "for event in events[:5]:\n",
    "    bar, position, duration = quantize_to_grid(event['time'], event['duration'], mid.ticks_per_beat)\n",
    "    print(f\"Bar {bar}, Position {position}, Note {event['note']}, Duration {duration}\")"
   ]
  },
  {
   "cell_type": "code",
   "execution_count": 34,
   "metadata": {},
   "outputs": [],
   "source": [
    "TIMESIGN={'[2, 2]': 0, '[2, 4]': 1, '[3, 4]': 2, '[4, 4]': 3, '[5, 4]': 4, '[6, 4]': 5, '[5, 8]': 6, '[6, 8]': 7, '[7, 8]': 8, '[9, 8]': 9}\n",
    "TPB = {48: 0, 96: 1, 120: 2, 192: 3, 256: 4, 384: 5, 480: 6, 960: 7, 1024: 8}\n",
    "def midi_to_REMI(mid):\n",
    "    \"\"\"\n",
    "    Extracts the notes and chords from a MIDI file and returns a list of tokens in the REMI format.\n",
    "    Format: \n",
    "        - 0: Bar\n",
    "        - 1-32: Position, 32 values\n",
    "        - 33-122: Pitch, 90 values [20-109]\n",
    "        - 123-154: Duration, 32 values\n",
    "        - 155-164: Time signature, 10 values\n",
    "        - 165-173: Ticks per beat, 9 values\n",
    "    \"\"\"\n",
    "    ticks_per_beat = mid.ticks_per_beat\n",
    "\n",
    "    events, time_signature = extract_notes_and_chords(mid)\n",
    "\n",
    "    tokens = []\n",
    "    position_set = set()\n",
    "    duration_set = set()\n",
    "    current_bar = None\n",
    "\n",
    "    # Add ticks per beat token\n",
    "    ticks_per_beat_token = TPB[ticks_per_beat] + 165\n",
    "    tokens.append(ticks_per_beat_token)\n",
    "\n",
    "    # Add time signature token\n",
    "    time_signature_token = TIMESIGN[str(time_signature)] + 155\n",
    "    tokens.append(time_signature_token)\n",
    "\n",
    "    for event in events:\n",
    "        bar, position, duration = quantize_to_grid(event['time'], event['duration'], ticks_per_beat)\n",
    "        if current_bar is None or bar > current_bar:\n",
    "            tokens.append(0)\n",
    "            current_bar = bar\n",
    "\n",
    "        position_token = position + 1\n",
    "        pitch_token = event['note'] - 20 + 33 # 20 is minimum pitch, 33 is the offset\n",
    "        duration_token = duration + 123\n",
    "        try: \n",
    "            tokens.append(position_token)\n",
    "            tokens.append(pitch_token)\n",
    "            tokens.append(duration_token)\n",
    "            position_set.add(position)\n",
    "            duration_set.add(event['duration'])\n",
    "        except:\n",
    "            print(f\"Error with {Path(mid.filename).stem} - {event['duration']}\")\n",
    "            \n",
    "    return tokens\n"
   ]
  }
 ],
 "metadata": {
  "kernelspec": {
   "display_name": "keyEmotions",
   "language": "python",
   "name": "python3"
  },
  "language_info": {
   "codemirror_mode": {
    "name": "ipython",
    "version": 3
   },
   "file_extension": ".py",
   "mimetype": "text/x-python",
   "name": "python",
   "nbconvert_exporter": "python",
   "pygments_lexer": "ipython3",
   "version": "3.12.8"
  }
 },
 "nbformat": 4,
 "nbformat_minor": 2
}
