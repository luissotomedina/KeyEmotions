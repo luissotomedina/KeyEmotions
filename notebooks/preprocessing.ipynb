{
 "cells": [
  {
   "cell_type": "code",
   "execution_count": 3,
   "metadata": {},
   "outputs": [],
   "source": [
    "import os\n",
    "import mido\n",
    "from pathlib import Path\n",
    "from mido import MidiFile, MidiTrack, merge_tracks"
   ]
  },
  {
   "cell_type": "code",
   "execution_count": 4,
   "metadata": {},
   "outputs": [],
   "source": [
    "mid_file = 'Banjo-Kazooie_N64_Banjo-Tooie_Cauldron Keep.mid'"
   ]
  },
  {
   "cell_type": "code",
   "execution_count": 5,
   "metadata": {},
   "outputs": [],
   "source": [
    "mid = mido.MidiFile(\"../data/raw/\" + mid_file)"
   ]
  },
  {
   "cell_type": "code",
   "execution_count": 5,
   "metadata": {},
   "outputs": [],
   "source": []
  },
  {
   "cell_type": "markdown",
   "metadata": {},
   "source": [
    "## COMBINE MIDI TRACKS"
   ]
  },
  {
   "cell_type": "code",
   "execution_count": 6,
   "metadata": {},
   "outputs": [],
   "source": [
    "def combine_midi_tracks(mid, Returns_path=\"../data/processed/\"):\n",
    "    if not isinstance(mid, MidiFile):\n",
    "        raise ValueError(\"Expected a MidiFile object as input\")\n",
    "    \n",
    "    combined_midi = MidiFile(ticks_per_beat=mid.ticks_per_beat)\n",
    "\n",
    "    combined_midi.tracks = [merge_tracks(mid.tracks)]\n",
    "\n",
    "    Returns_file = os.path.join(Returns_path, Path(mid.filename).stem + \"_merged.mid\")\n",
    "    combined_midi.save(Returns_file)"
   ]
  },
  {
   "cell_type": "code",
   "execution_count": 7,
   "metadata": {},
   "outputs": [],
   "source": [
    "def split_midi_file(mid, Returns_path=\"../data/processed/\"):\n",
    "    if not isinstance(mid, MidiFile):\n",
    "        raise ValueError(\"Expected a MidiFile object as input\")\n",
    "    \n",
    "    split_midi = MidiFile()\n",
    "    split_midi.ticks_per_beat = mid.ticks_per_beat\n",
    "    for msg in mid: \n",
    "        if not msg.is_meta:\n",
    "            split_midi.tracks.append([msg])"
   ]
  },
  {
   "cell_type": "code",
   "execution_count": 8,
   "metadata": {},
   "outputs": [],
   "source": [
    "print(mid.ticks_per_beat)\n",
    "print(type(mid))\n",
    "print(len(mid.tracks))\n",
    "combine_midi_tracks(mid)"
   ]
  },
  {
   "cell_type": "markdown",
   "metadata": {},
   "source": [
    "## Split by bars"
   ]
  },
  {
   "cell_type": "code",
   "execution_count": 9,
   "metadata": {},
   "outputs": [],
   "source": [
    "mid_file = \"Banjo-Kazooie_N64_Banjo-Tooie_Cauldron Keep_merged.mid\"\n",
    "mid_unify = mido.MidiFile(\"../data/processed/\" + mid_file)"
   ]
  },
  {
   "cell_type": "code",
   "execution_count": 10,
   "metadata": {},
   "outputs": [],
   "source": [
    "BARS_TO_EXTRACT = 4"
   ]
  },
  {
   "cell_type": "code",
   "execution_count": 11,
   "metadata": {},
   "outputs": [],
   "source": [
    "def save_bar_messages(message, bar_number, ticks_per_beat, filename, Returns_path=\"../data/processed/\"):\n",
    "    bar_midi = MidiFile(ticks_per_beat=ticks_per_beat)\n",
    "    bar_track = MidiTrack()\n",
    "    bar_midi.tracks.append(bar_track)\n",
    "    for msg in message:\n",
    "        msg.time = msg.time # int(msg.time)\n",
    "        bar_track.append(msg)\n",
    "    Returns_file = os.path.join(Returns_path, f\"{filename}_{bar_number}.mid\")\n",
    "    bar_midi.save(Returns_file)\n",
    "    print(f\"Bar {bar_number} saved to {Returns_file}\")"
   ]
  },
  {
   "cell_type": "code",
   "execution_count": 12,
   "metadata": {},
   "outputs": [],
   "source": [
    "metadata_info = [msg for msg in mid_unify if msg.is_meta]\n",
    "metadata_info[:-1]\n",
    "metadata_info[-1]"
   ]
  },
  {
   "cell_type": "code",
   "execution_count": 24,
   "metadata": {},
   "outputs": [],
   "source": [
    "# BUENO\n",
    "def split_midi_by_bar(mid, bars_to_extract = 4, path=\"data/processed\"):\n",
    "    filename = Path(mid.filename).stem\n",
    "\n",
    "    ticks_per_beat = mid.ticks_per_beat\n",
    "    numerator_time_signature = [msg.numerator for msg in mid if msg.type == 'time_signature'][0]\n",
    "    ticks_per_bar = ticks_per_beat * numerator_time_signature\n",
    "    ticks_to_extract = ticks_per_bar * bars_to_extract\n",
    "\n",
    "    current_bar = 0\n",
    "    current_ticks = 0\n",
    "    metadata_info = [msg for msg in mid if msg.is_meta]\n",
    "    bar_messages = []\n",
    "    chord_messages = []\n",
    "\n",
    "    for track in mid.tracks:\n",
    "        for msg in track:\n",
    "            if msg.time == 0:\n",
    "                chord_messages.append(msg)\n",
    "            else: \n",
    "                chord_messages.append(msg)\n",
    "                # CASE 1: the chord is of the next section\n",
    "                if current_ticks + msg.time >= ticks_to_extract:\n",
    "                    current_bar += 1\n",
    "                    current_ticks = 0\n",
    "                    bar_messages.append(metadata_info[-1])\n",
    "                    save_bar_messages(bar_messages, current_bar, ticks_per_beat, filename)\n",
    "                    bar_messages = metadata_info[:-1]\n",
    "                    bar_messages.extend(chord_messages)\n",
    "                    chord_messages = []\n",
    "                # CASE 2: the chord is of the current section\n",
    "                else:\n",
    "                    current_ticks += msg.time\n",
    "                    bar_messages.extend(chord_messages)\n",
    "                    chord_messages = []"
   ]
  },
  {
   "cell_type": "code",
   "execution_count": null,
   "metadata": {},
   "outputs": [],
   "source": []
  },
  {
   "cell_type": "code",
   "execution_count": null,
   "metadata": {},
   "outputs": [],
   "source": [
    "# IMPROVED VERSION\n",
    "def split_midi_by_bar(mid, bars_to_extract = 4, path=\"data/processed\"):\n",
    "    filename = Path(mid.filename).stem\n",
    "\n",
    "    ticks_per_beat = mid.ticks_per_beat\n",
    "    numerator_time_signature = next((msg.numerator for msg in mid if msg.type == 'time_signature'), 4)\n",
    "    ticks_per_bar = ticks_per_beat * numerator_time_signature\n",
    "    ticks_to_extract = ticks_per_bar * bars_to_extract\n",
    "\n",
    "    current_bar = 0\n",
    "    current_ticks = 0\n",
    "    metadata_info = [msg for msg in mid if msg.is_meta]\n",
    "    bar_messages = []\n",
    "    chord_messages = []\n",
    "\n",
    "    for track in mid.tracks:\n",
    "        for msg in track:\n",
    "            chord_messages.append(msg)\n",
    "\n",
    "            if msg.time > 0: \n",
    "                current_ticks += msg.time\n",
    "\n",
    "                if current_ticks >= ticks_to_extract:\n",
    "                    current_bar += 1\n",
    "                    current_ticks -= ticks_to_extract\n",
    "\n",
    "                    # Save the current bar messages\n",
    "                    bar_messages.extend(metadata_info)\n",
    "                    bar_messages.append(metadata_info[-1])\n",
    "                    save_bar_messages(bar_messages, current_bar, ticks_per_beat, filename)\n",
    "\n",
    "                    # Prepare for the next bar\n",
    "                    bar_messages = metadata_info[:-1]\n",
    "                    chord_messages.clear()\n",
    "\n",
    "    # Save remaining messages if any\n",
    "    if chord_messages:\n",
    "        current_bar += 1\n",
    "        bar_messages.extend(chord_messages)\n",
    "        save_bar_messages(bar_messages, current_bar, ticks_per_beat, filename)"
   ]
  },
  {
   "cell_type": "code",
   "execution_count": 26,
   "metadata": {},
   "outputs": [],
   "source": [
    "mid = mido.MidiFile(\"../data/processed/\" + mid_file)\n",
    "split_midi_by_bar(mid, BARS_TO_EXTRACT)"
   ]
  },
  {
   "cell_type": "code",
   "execution_count": 16,
   "metadata": {},
   "outputs": [],
   "source": [
    "mid = mido.MidiFile(\"../data/processed/\" + mid_file)\n",
    "filename = Path(mid.filename).stem\n",
    "\n",
    "ticks_per_beat = mid.ticks_per_beat\n",
    "numerator_time_signature = [msg.numerator for msg in mid_unify if msg.type == 'time_signature'][0]\n",
    "ticks_per_bar = ticks_per_beat * numerator_time_signature\n",
    "ticks_to_extract = ticks_per_bar * 4\n",
    "\n",
    "current_bar = 0\n",
    "current_ticks = 0\n",
    "metadata_info = [msg for msg in mid_unify if msg.is_meta]\n",
    "bar_messages = []\n",
    "chord_messages = []\n",
    "\n",
    "for track in mid.tracks:\n",
    "    for msg in track:\n",
    "        if msg.time == 0:\n",
    "            chord_messages.append(msg)\n",
    "        else: \n",
    "            chord_messages.append(msg)\n",
    "            # CASE 1: the chord is of the next section\n",
    "            if current_ticks + msg.time >= ticks_to_extract:\n",
    "                current_bar += 1\n",
    "                current_ticks = 0\n",
    "                bar_messages.append(metadata_info[-1])\n",
    "                save_bar_messages(bar_messages, current_bar, ticks_per_beat, filename)\n",
    "                bar_messages = metadata_info[:-1]\n",
    "                bar_messages.extend(chord_messages)\n",
    "                chord_messages = []\n",
    "            # CASE 2: the chord is of the current section\n",
    "            else:\n",
    "                current_ticks += msg.time\n",
    "                bar_messages.extend(chord_messages)\n",
    "                chord_messages = []"
   ]
  },
  {
   "cell_type": "code",
   "execution_count": 17,
   "metadata": {},
   "outputs": [],
   "source": [
    "mid_test_1 = mido.MidiFile(\"../data/processed/\" + \"Banjo-Kazooie_N64_Banjo-Tooie_Cauldron Keep_merged_1.mid\")\n",
    "mid_test_1"
   ]
  },
  {
   "cell_type": "code",
   "execution_count": 18,
   "metadata": {},
   "outputs": [],
   "source": [
    "mid_test_2 = mido.MidiFile(\"../data/processed/\" + \"Banjo-Kazooie_N64_Banjo-Tooie_Cauldron Keep_merged_2.mid\")\n",
    "mid_test_2"
   ]
  },
  {
   "cell_type": "code",
   "execution_count": 19,
   "metadata": {},
   "outputs": [],
   "source": [
    "mid_test_14 = mido.MidiFile(\"../data/processed/\" + \"Banjo-Kazooie_N64_Banjo-Tooie_Cauldron Keep_merged_14.mid\")\n",
    "mid_test_14"
   ]
  }
 ],
 "metadata": {
  "kernelspec": {
   "display_name": "keyEmotions",
   "language": "python",
   "name": "python3"
  },
  "language_info": {
   "codemirror_mode": {
    "name": "ipython",
    "version": 3
   },
   "file_extension": ".py",
   "mimetype": "text/x-python",
   "name": "python",
   "nbconvert_exporter": "python",
   "pygments_lexer": "ipython3",
   "version": "3.12.8"
  }
 },
 "nbformat": 4,
 "nbformat_minor": 2
}
