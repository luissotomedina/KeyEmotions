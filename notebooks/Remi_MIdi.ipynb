{
 "cells": [
  {
   "cell_type": "code",
   "execution_count": 1,
   "metadata": {},
   "outputs": [],
   "source": [
    "from mido import MidiFile, MidiTrack, Message"
   ]
  },
  {
   "cell_type": "code",
   "execution_count": 2,
   "metadata": {},
   "outputs": [],
   "source": [
    "REMI = [0, 1, 177, 165, 5, 6, 91, 182, 177, 165, 5, 6, 91, 152, 8, 91, 152, 21, 91, 152, 21, 93, 148, 21, 91, 152, 21, 91, 152, 21, 93, 148, 21, 93, 148, 21, 93, 148, 21, 93, 148, 21, 93, 148, 21, 93, 148, 21, 93, 148, 21, 93, 148, 21, 93, 135, 34, 93, 148, 21, 93, 148, 21, 91, 143, 32, 91, 143, 32, 91, 143, 32, 91, 143, 32, 91, 158, 21, 93, 148, 5, 6, 91, 143, 32, 91, 143, 32, 91, 143, 32, 91, 152, 34, 93, 148, 5, 6, 93, 148, 5, 6, 93, 148, 5, 6, 91, 143, 32, 91, 143, 32, 91, 143, 32, 91, 143, 32, 91, 148, 5, 6, 91, 148, 21, 93, 148, 21, 93, 148, 21, 93, 148, 21, 93, 148, 5, 6, 93, 148]"
   ]
  },
  {
   "cell_type": "code",
   "execution_count": null,
   "metadata": {},
   "outputs": [],
   "source": [
    "SOS_ind = 0\n",
    "bar_ind = 5\n",
    "pos_ind = 6\n",
    "pitch_ind = 38\n",
    "duration_ind = 130\n",
    "timesign_ind = 162\n",
    "tpb_ind = 172\n",
    "EOS_ind = 182\n",
    "\n",
    "TIMESIGN={'[2, 2]': 0, '[2, 4]': 1, '[3, 4]': 2, '[4, 4]': 3, '[5, 4]': 4, '[6, 4]': 5, '[5, 8]': 6, '[6, 8]': 7, '[7, 8]': 8, '[9, 8]': 9}\n",
    "TPB = {48: 0, 96: 1, 120: 2, 192: 3, 256: 4, 384: 5, 480: 6, 960: 7, 1024: 8}\n",
    "\n",
    "mid = MidiFile()\n",
    "track = MidiTrack()\n",
    "mid.tracks.append(track)\n",
    "\n",
    "ticks_per_beat = 384\n",
    "time_sign = [4, 4]\n",
    "\n",
    "current_tick = 0\n",
    "current_bar = 0\n",
    "active_notes = {}\n",
    "\n",
    "i = 0\n",
    "while i < len(REMI):\n",
    "    token = REMI[i]\n",
    "\n",
    "    if token == SOS_ind:\n",
    "        i += 1\n",
    "        continue\n",
    "\n",
    "    elif token in range()\n"
   ]
  }
 ],
 "metadata": {
  "kernelspec": {
   "display_name": "keyEmotions",
   "language": "python",
   "name": "python3"
  },
  "language_info": {
   "codemirror_mode": {
    "name": "ipython",
    "version": 3
   },
   "file_extension": ".py",
   "mimetype": "text/x-python",
   "name": "python",
   "nbconvert_exporter": "python",
   "pygments_lexer": "ipython3",
   "version": "3.12.8"
  }
 },
 "nbformat": 4,
 "nbformat_minor": 2
}
