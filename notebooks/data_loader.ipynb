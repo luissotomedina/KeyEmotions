{
 "cells": [
  {
   "cell_type": "code",
   "execution_count": 14,
   "metadata": {},
   "outputs": [],
   "source": [
    "import os\n",
    "import mido\n",
    "import json\n",
    "\n",
    "import pandas as pd\n",
    "\n",
    "from pathlib import Path"
   ]
  },
  {
   "cell_type": "code",
   "execution_count": 5,
   "metadata": {},
   "outputs": [],
   "source": [
    "def load_json(filename, file_path):\n",
    "    \"\"\"\n",
    "    Load JSON file from a specific directory.\n",
    "    \n",
    "    Parameters: \n",
    "        filename (str): Name of the file to load.\n",
    "        file_path (str): Path to the directory where the file is located.\n",
    "    \n",
    "    Returns:\n",
    "        data: loaded data.\n",
    "    \"\"\"\n",
    "    file_path = os.path.join(file_path, filename)\n",
    "    try: \n",
    "        with open(file_path, 'r') as f:\n",
    "            data = json.load(f)\n",
    "            print(f\"JSON file loaded from {file_path}\")\n",
    "            return data\n",
    "    except Exception as e:\n",
    "        print(f\"Error loading JSON file: {e}\")\n",
    "        return None"
   ]
  },
  {
   "cell_type": "code",
   "execution_count": 25,
   "metadata": {},
   "outputs": [
    {
     "name": "stdout",
     "output_type": "stream",
     "text": [
      "JSON file loaded from ../data/processed/analysis\\csv_metadata.json\n"
     ]
    },
    {
     "data": {
      "text/html": [
       "<div>\n",
       "<style scoped>\n",
       "    .dataframe tbody tr th:only-of-type {\n",
       "        vertical-align: middle;\n",
       "    }\n",
       "\n",
       "    .dataframe tbody tr th {\n",
       "        vertical-align: top;\n",
       "    }\n",
       "\n",
       "    .dataframe thead th {\n",
       "        text-align: right;\n",
       "    }\n",
       "</style>\n",
       "<table border=\"1\" class=\"dataframe\">\n",
       "  <thead>\n",
       "    <tr style=\"text-align: right;\">\n",
       "      <th></th>\n",
       "      <th>name</th>\n",
       "      <th>label</th>\n",
       "      <th>keyname</th>\n",
       "      <th>tempo</th>\n",
       "    </tr>\n",
       "  </thead>\n",
       "  <tbody>\n",
       "    <tr>\n",
       "      <th>1276</th>\n",
       "      <td>Xeno_PS1_Xenogears_Ship of Regret and Sleep</td>\n",
       "      <td>4</td>\n",
       "      <td></td>\n",
       "      <td></td>\n",
       "    </tr>\n",
       "  </tbody>\n",
       "</table>\n",
       "</div>"
      ],
      "text/plain": [
       "                                             name  label keyname tempo\n",
       "1276  Xeno_PS1_Xenogears_Ship of Regret and Sleep      4              "
      ]
     },
     "execution_count": 25,
     "metadata": {},
     "output_type": "execute_result"
    }
   ],
   "source": [
    "mid = mido.MidiFile('../data/processed/cleaned/Xeno_PS1_Xenogears_Ship of Regret and Sleep_6.mid')\n",
    "\n",
    "emotion = load_json('csv_metadata.json', '../data/processed/analysis')\n",
    "emotion_df = pd.DataFrame(emotion)\n",
    "emotion_df.loc[emotion_df['name'] == 'Xeno_PS1_Xenogears_Ship of Regret and Sleep']"
   ]
  },
  {
   "cell_type": "code",
   "execution_count": 28,
   "metadata": {},
   "outputs": [],
   "source": [
    "def get_emotion(emotion_df, filename):\n",
    "    \"\"\"\n",
    "    Get emotion of a specific midi file.\n",
    "\n",
    "    Parameters:\n",
    "        emotion_df (pd.DataFrame): DataFrame containing emotion data.\n",
    "        filename (str): Name of the midi file to find.\n",
    "    \n",
    "    Returns:\n",
    "        emotion (int): Emotion of the midi file.\n",
    "    \"\"\"\n",
    "    midi_to_find = filename.rfind('_')\n",
    "    midi_name = filename[:midi_to_find]\n",
    "    emotion = emotion_df.loc[emotion_df['name'] == midi_name, 'label'].values[0]\n",
    "    return emotion"
   ]
  },
  {
   "cell_type": "code",
   "execution_count": 29,
   "metadata": {},
   "outputs": [
    {
     "name": "stdout",
     "output_type": "stream",
     "text": [
      "4\n"
     ]
    }
   ],
   "source": [
    "name = Path(mid.filename).stem\n",
    "\n",
    "result_df = get_emotion(emotion_df, name)\n",
    "print(result_df)"
   ]
  },
  {
   "cell_type": "code",
   "execution_count": 23,
   "metadata": {},
   "outputs": [
    {
     "data": {
      "text/html": [
       "<div>\n",
       "<style scoped>\n",
       "    .dataframe tbody tr th:only-of-type {\n",
       "        vertical-align: middle;\n",
       "    }\n",
       "\n",
       "    .dataframe tbody tr th {\n",
       "        vertical-align: top;\n",
       "    }\n",
       "\n",
       "    .dataframe thead th {\n",
       "        text-align: right;\n",
       "    }\n",
       "</style>\n",
       "<table border=\"1\" class=\"dataframe\">\n",
       "  <thead>\n",
       "    <tr style=\"text-align: right;\">\n",
       "      <th></th>\n",
       "      <th>name</th>\n",
       "      <th>label</th>\n",
       "      <th>keyname</th>\n",
       "      <th>tempo</th>\n",
       "    </tr>\n",
       "  </thead>\n",
       "  <tbody>\n",
       "  </tbody>\n",
       "</table>\n",
       "</div>"
      ],
      "text/plain": [
       "Empty DataFrame\n",
       "Columns: [name, label, keyname, tempo]\n",
       "Index: []"
      ]
     },
     "execution_count": 23,
     "metadata": {},
     "output_type": "execute_result"
    }
   ],
   "source": [
    "result_df"
   ]
  }
 ],
 "metadata": {
  "kernelspec": {
   "display_name": "keyEmotions",
   "language": "python",
   "name": "python3"
  },
  "language_info": {
   "codemirror_mode": {
    "name": "ipython",
    "version": 3
   },
   "file_extension": ".py",
   "mimetype": "text/x-python",
   "name": "python",
   "nbconvert_exporter": "python",
   "pygments_lexer": "ipython3",
   "version": "3.12.8"
  }
 },
 "nbformat": 4,
 "nbformat_minor": 2
}
